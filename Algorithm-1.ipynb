{
 "cells": [
  {
   "cell_type": "markdown",
   "id": "210bdb69-357a-4af4-bbb7-be5781129539",
   "metadata": {},
   "source": [
    "# Bubble Sorting"
   ]
  },
  {
   "cell_type": "code",
   "execution_count": null,
   "id": "61bd2b76-bc33-4da4-a163-ed3e8c4371a4",
   "metadata": {},
   "outputs": [],
   "source": [
    "num = [1,5,87,55,40,3,0,4]\n",
    "#\n",
    "print(f'Before sorting: {num}')\n",
    "n = len(num)\n",
    "for i in range(n):\n",
    "    for j in range(0,n-i-1):\n",
    "#        print(n-i-1)\n",
    "        if num[j]>num[j+1]:\n",
    "            num[j],num[j+1] = num[j+1],num[j]\n",
    "\n",
    "print(f'After sorting: {num}')"
   ]
  },
  {
   "cell_type": "code",
   "execution_count": null,
   "id": "183ce3ae-5926-4614-bf94-f61afba091fc",
   "metadata": {},
   "outputs": [],
   "source": [
    "num"
   ]
  },
  {
   "cell_type": "markdown",
   "id": "722032fc-dc58-47e4-96b7-a5322e7258c5",
   "metadata": {},
   "source": [
    "# Reversing a number"
   ]
  },
  {
   "cell_type": "code",
   "execution_count": null,
   "id": "d8e2efe3-241f-4f2a-9168-9dfd2953f9e7",
   "metadata": {},
   "outputs": [],
   "source": [
    "number = int(input('Enter a number: '))\n",
    "\n",
    "reverse = 0\n",
    "\n",
    "while number > 0:\n",
    "    dig = number%10\n",
    "    reverse = reverse*10 + dig\n",
    "    number = number//10"
   ]
  },
  {
   "cell_type": "code",
   "execution_count": null,
   "id": "26de0afd-89c3-4a52-ae4f-c7d01544a6f4",
   "metadata": {},
   "outputs": [],
   "source": [
    "reverse"
   ]
  },
  {
   "cell_type": "markdown",
   "id": "60f6b4ec-3c79-4b41-b28a-48c24f74f44d",
   "metadata": {},
   "source": [
    "# Armstrong Number"
   ]
  },
  {
   "cell_type": "code",
   "execution_count": null,
   "id": "06f1f43a-6417-420a-989a-0b64edd23261",
   "metadata": {},
   "outputs": [],
   "source": [
    "number = int(input('Enter a number: '))\n",
    "\n",
    "power = len(str(lnumber))\n",
    "num = number\n",
    "total = 0\n",
    "\n",
    "while num > 0:\n",
    "\n",
    "    dig = num%10\n",
    "    total = total + dig**power\n",
    "    num = num//10\n",
    "\n",
    "if total == number:\n",
    "    print(f'\\nArmstrong number of order {power}.')\n",
    "else:\n",
    "    print('\\nNot an Armstrong number.')"
   ]
  },
  {
   "cell_type": "markdown",
   "id": "eb151df6-ff4e-415d-aac4-84c4ebfeda88",
   "metadata": {},
   "source": [
    "# Factorial"
   ]
  },
  {
   "cell_type": "code",
   "execution_count": null,
   "id": "7fdc2033-c2aa-41c3-a1f1-a87cf5c633bd",
   "metadata": {},
   "outputs": [],
   "source": [
    "number = int(input('Enter a number: '))\n",
    "\n",
    "\n",
    "factorial = 1\n",
    "\n",
    "if number<0:\n",
    "    print('Not Defined.')\n",
    "elif number == 0 :\n",
    "    factorial = 1\n",
    "    print(factorial)\n",
    "else:\n",
    "    for i in range(1,number+1):\n",
    "        factorial = factorial*i\n",
    "    print(factorial)"
   ]
  },
  {
   "cell_type": "markdown",
   "id": "f4ce1557-a046-462b-b018-e3b3b73c4cd1",
   "metadata": {},
   "source": [
    "# String Palindrome"
   ]
  },
  {
   "cell_type": "code",
   "execution_count": null,
   "id": "24972c0a-6c61-479a-b9b0-ab4c4f8de779",
   "metadata": {},
   "outputs": [],
   "source": [
    "string = 'racecar'\n",
    "lenght = len(string)\n",
    "\n",
    "is_palindrome = True\n",
    "\n",
    "for i in range(0, length // 2):\n",
    "    if string[i] != strings[length- i - 1]:\n",
    "        is_palindrome = False\n",
    "        break\n",
    "\n",
    "if is_palindrome:\n",
    "    print('Palindrome found!!')\n",
    "else:\n",
    "    print('Not a Palindrome')"
   ]
  },
  {
   "cell_type": "markdown",
   "id": "593b301c-b4d5-49c2-89fb-19cd3a0856f3",
   "metadata": {},
   "source": [
    "# Number Palindrome"
   ]
  },
  {
   "cell_type": "code",
   "execution_count": null,
   "id": "2f6390c4-a033-4d67-9c62-4b3ca681467e",
   "metadata": {},
   "outputs": [],
   "source": [
    "number = int(input('Enter a number: '))\n",
    "\n",
    "temp = number\n",
    "\n",
    "reverse = 0\n",
    "\n",
    "while temp > 0:\n",
    "    dig = temp%10\n",
    "    reverse = reverse*10 + dig\n",
    "    temp = temp//10\n",
    "\n",
    "if reverse == number:\n",
    "    print('Palindrome!!')\n",
    "else:\n",
    "    print('Not a palindrome : ')"
   ]
  },
  {
   "cell_type": "code",
   "execution_count": null,
   "id": "bb0be56b-9be2-4569-9054-8e5b6f93f270",
   "metadata": {},
   "outputs": [],
   "source": []
  },
  {
   "cell_type": "code",
   "execution_count": 2,
   "id": "f8a6c37f-8435-4579-b966-923c67f91719",
   "metadata": {},
   "outputs": [
    {
     "name": "stdout",
     "output_type": "stream",
     "text": [
      "*\n",
      "**\n",
      "***\n",
      "****\n",
      "*****\n"
     ]
    }
   ],
   "source": [
    "row = 5\n",
    "\n",
    "for i in range(1,row+1):\n",
    "    print('*'*i)"
   ]
  },
  {
   "cell_type": "code",
   "execution_count": 3,
   "id": "5a7f7f50-9811-4a76-84e2-12c846360b67",
   "metadata": {},
   "outputs": [
    {
     "name": "stdout",
     "output_type": "stream",
     "text": [
      "*****\n",
      "****\n",
      "***\n",
      "**\n",
      "*\n"
     ]
    }
   ],
   "source": [
    "row = 5\n",
    "for i in range(row,0,-1):\n",
    "    print('*'*i)"
   ]
  },
  {
   "cell_type": "code",
   "execution_count": 2,
   "id": "f156dd0b-1be7-4ebf-b501-8227b5a7edbb",
   "metadata": {},
   "outputs": [
    {
     "name": "stdout",
     "output_type": "stream",
     "text": [
      "    *\n",
      "   **\n",
      "  ***\n",
      " ****\n",
      "*****\n"
     ]
    }
   ],
   "source": [
    "row = 5\n",
    "for i in range(1,row+1):\n",
    "    for j in range(row,i,-1):\n",
    "        print(' ',end='')\n",
    "    print('*'*i)"
   ]
  },
  {
   "cell_type": "code",
   "execution_count": 6,
   "id": "861d82dc-a882-4ab5-ab85-563ec354d78e",
   "metadata": {},
   "outputs": [
    {
     "name": "stdout",
     "output_type": "stream",
     "text": [
      "    *\n",
      "   **\n",
      "  ***\n",
      " ****\n",
      "*****\n"
     ]
    }
   ],
   "source": [
    "row = 5\n",
    "\n",
    "for i in range(1,row+1):\n",
    "\n",
    "    pattern = ' '*(row-i)+'*'*i\n",
    "    print(pattern)"
   ]
  },
  {
   "cell_type": "code",
   "execution_count": 7,
   "id": "8a4976d2-572a-4fed-a31b-85f4024e3312",
   "metadata": {},
   "outputs": [
    {
     "name": "stdout",
     "output_type": "stream",
     "text": [
      "*****\n",
      " ****\n",
      "  ***\n",
      "   **\n",
      "    *\n"
     ]
    }
   ],
   "source": [
    "row = 5\n",
    "\n",
    "for i in range(row,0,-1):\n",
    "    for j in range(row,i,-1):\n",
    "        print(' ',end='')\n",
    "    print('*'*i)"
   ]
  },
  {
   "cell_type": "code",
   "execution_count": 2,
   "id": "3397b6b9-171f-4eda-86a0-c5a24d5c4e22",
   "metadata": {},
   "outputs": [
    {
     "name": "stdout",
     "output_type": "stream",
     "text": [
      "*****\n",
      " ****\n",
      "  ***\n",
      "   **\n",
      "    *\n"
     ]
    }
   ],
   "source": [
    "row = 5\n",
    "\n",
    "for i in range(row,0,-1):\n",
    "\n",
    "    pattern = ' '*(row-i)+'*'*i\n",
    "    print(pattern)\n",
    "   "
   ]
  },
  {
   "cell_type": "code",
   "execution_count": 10,
   "id": "071e9a00-8848-483a-8d2f-266939653726",
   "metadata": {},
   "outputs": [
    {
     "name": "stdout",
     "output_type": "stream",
     "text": [
      "    *\n",
      "   ***\n",
      "  *****\n",
      " *******\n",
      "*********\n",
      "*********\n",
      " *******\n",
      "  *****\n",
      "   ***\n",
      "    *\n"
     ]
    }
   ],
   "source": [
    "row = 5\n",
    "\n",
    "for i in range(1,row+1):\n",
    "    for j in range(row,i,-1):\n",
    "        print(' ',end='')\n",
    "    print('*'*i,end='')\n",
    "    print('*'*(i-1))\n",
    "\n",
    "for i in range (row,0,-1):\n",
    "    for j in range(row,i,-1):\n",
    "        print(' ',end='')\n",
    "    print('*'*i,end='')\n",
    "    print('*'*(i-1))"
   ]
  },
  {
   "cell_type": "code",
   "execution_count": 4,
   "id": "1d77ee2b-9ed8-4e0f-b3ec-c591945cdc17",
   "metadata": {},
   "outputs": [
    {
     "name": "stdout",
     "output_type": "stream",
     "text": [
      "55555\n",
      "4444\n",
      "333\n",
      "22\n",
      "1\n",
      "==============================\n",
      "1\n",
      "12\n",
      "123\n",
      "1234\n",
      "12345\n"
     ]
    }
   ],
   "source": [
    "row = 5\n",
    "\n",
    "for i in range(row,0,-1):\n",
    "    print(f'{i}'*i)\n",
    "print('==============================')\n",
    "for i in range(1,row + 1):\n",
    "    for j in range(1, i + 1):\n",
    "        print(j, end='')\n",
    "    print()"
   ]
  },
  {
   "cell_type": "code",
   "execution_count": 3,
   "id": "6bfcf0f2-4264-4296-ae39-1a309985cc9f",
   "metadata": {},
   "outputs": [],
   "source": [
    "# for i in range(1, row + 1):\n",
    "  #    spsces =\" \" * (row - i)\n",
    " #     stars = \"*\" * (2 * i - 1)\n",
    "#      print(spaces + stars)"
   ]
  },
  {
   "cell_type": "code",
   "execution_count": 4,
   "id": "922433ff-e1bc-48f3-b3b8-2c1ad1e577b8",
   "metadata": {},
   "outputs": [
    {
     "name": "stdout",
     "output_type": "stream",
     "text": [
      "    *\n",
      "   ***\n",
      "  *****\n",
      " *******\n"
     ]
    }
   ],
   "source": [
    "k = 1\n",
    "i = 1\n",
    "while i < 5:\n",
    "    b = 1\n",
    "    while b <= row-i:\n",
    "        print(' ',end='')\n",
    "        b = b+1\n",
    "\n",
    "    j = 1\n",
    "    while j <= k:\n",
    "        print('*',end='')\n",
    "        j = j+1\n",
    "\n",
    "    print()\n",
    "    k = k+2\n",
    "    i = i+1"
   ]
  },
  {
   "cell_type": "code",
   "execution_count": 6,
   "id": "813855d9-b8eb-492e-ad18-0c867d38116f",
   "metadata": {},
   "outputs": [
    {
     "name": "stdout",
     "output_type": "stream",
     "text": [
      "    *\n",
      "   ***\n",
      "  *****\n",
      " *******\n",
      "*********\n"
     ]
    }
   ],
   "source": [
    "rows =  5\n",
    "\n",
    "for i in range(1, rows + 1):\n",
    "    for b in range(1, rows - i + 1):\n",
    "        print(' ', end='')\n",
    "\n",
    "    for j in range(1, 2 * i):\n",
    "        print('*', end='')\n",
    "    print()"
   ]
  },
  {
   "cell_type": "code",
   "execution_count": null,
   "id": "be557f14-d368-4e12-9e00-1c9ca48cdae2",
   "metadata": {},
   "outputs": [],
   "source": []
  }
 ],
 "metadata": {
  "kernelspec": {
   "display_name": "Python 3 (ipykernel)",
   "language": "python",
   "name": "python3"
  },
  "language_info": {
   "codemirror_mode": {
    "name": "ipython",
    "version": 3
   },
   "file_extension": ".py",
   "mimetype": "text/x-python",
   "name": "python",
   "nbconvert_exporter": "python",
   "pygments_lexer": "ipython3",
   "version": "3.11.7"
  },
  "widgets": {
   "application/vnd.jupyter.widget-state+json": {
    "state": {},
    "version_major": 2,
    "version_minor": 0
   }
  }
 },
 "nbformat": 4,
 "nbformat_minor": 5
}
